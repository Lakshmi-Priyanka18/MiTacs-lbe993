{
 "cells": [
  {
   "cell_type": "code",
   "execution_count": 36,
   "metadata": {},
   "outputs": [],
   "source": [
    "f = open(\"E:\\Dream\\Dream Research\\Mitacs Project\\Test1.out\", \"r\")\n",
    "#print(f.read())     "
   ]
  },
  {
   "cell_type": "code",
   "execution_count": 37,
   "metadata": {},
   "outputs": [
    {
     "name": "stdout",
     "output_type": "stream",
     "text": [
      "present\n"
     ]
    }
   ],
   "source": [
    "with open(\"E:\\Dream\\Dream Research\\Mitacs Project\\Test1.txt\") as myfile:\n",
    "    if 'JOB DONE.' in myfile.read():\n",
    "        print('present')\n",
    "    else:\n",
    "        print('Not present')\n",
    "     "
   ]
  },
  {
   "cell_type": "code",
   "execution_count": 38,
   "metadata": {},
   "outputs": [
    {
     "name": "stdout",
     "output_type": "stream",
     "text": [
      "File to read:  E:\\Dream\\Dream Research\\Mitacs Project\\Test1.txt\n",
      "Successful\n"
     ]
    }
   ],
   "source": [
    "# Python 3 Code\n",
    "# Python Program to read file line by line\n",
    "\n",
    "# Open file\n",
    "mf = open(\"E:\\Dream\\Dream Research\\Mitacs Project\\Test1.txt\", \"r\")\n",
    "print(\"File to read: \", mf.name)\n",
    "flag=0\n",
    "# Read all lines in the file\n",
    "file_content = mf.readlines()\n",
    "if '   JOB DONE.\\n' in file_content:\n",
    "    flag=1\n",
    "else:\n",
    "    flag=0\n",
    "if 'End final coordinates\\n' in file_content:\n",
    "    flag*=1\n",
    "else:\n",
    "    flag*=0\n",
    "if  '     End of BFGS Geometry Optimization\\n' in file_content:\n",
    "    flag*=1\n",
    "else:\n",
    "    flag*=0\n",
    "    \n",
    "if(flag==1):\n",
    "    print('Successful')\n",
    "else:\n",
    "    print('Not successful')\n",
    "     \n",
    "# Print all lines in file\n",
    "#print(\"Read Line: \", file_content)\n",
    "\n",
    "# Close opened file\n",
    "mf.close()"
   ]
  },
  {
   "cell_type": "code",
   "execution_count": 39,
   "metadata": {},
   "outputs": [
    {
     "name": "stdout",
     "output_type": "stream",
     "text": [
      "Successful\n"
     ]
    }
   ],
   "source": [
    "# Python implementation to\n",
    "# read last N lines of a file\n",
    " \n",
    "# Function to read\n",
    "# last N lines of the file\n",
    "def LastNlines(fname, N):\n",
    "    # opening file using with() method\n",
    "    # so that file get closed\n",
    "    # after completing work\n",
    "    flag=0\n",
    "    with open(fname) as file:\n",
    "         \n",
    "        # loop to read iterate\n",
    "        # last n lines and print it\n",
    "        for line in (file.readlines() [-N:]):\n",
    "            if(line=='   JOB DONE.\\n'):\n",
    "                flag+=1\n",
    "            if(line=='     End of BFGS Geometry Optimization\\n'):\n",
    "                flag+=1\n",
    "            if(line=='End final coordinates\\n'):\n",
    "                flag+=1\n",
    "    if(flag==3):\n",
    "        print('Successful')\n",
    "    else:\n",
    "        print('Not Successful')\n",
    "                 \n",
    "# Driver Code:\n",
    "if __name__ == '__main__':\n",
    "    fname = \"E:\\Dream\\Dream Research\\Mitacs Project\\Test2.txt\"\n",
    "    N = 500\n",
    "    try:\n",
    "        LastNlines(fname, N)\n",
    "    except:\n",
    "        print('File not found')"
   ]
  },
  {
   "cell_type": "code",
   "execution_count": 40,
   "metadata": {},
   "outputs": [],
   "source": [
    "# Check for number of job done"
   ]
  },
  {
   "cell_type": "code",
   "execution_count": 2,
   "metadata": {},
   "outputs": [],
   "source": [
    "f = open(\"E:\\Dream\\Dream Research\\Mitacs Project\\gipawTest4.out\", \"r\")\n",
    "#print(f.read())    \n",
    "file_content = f.readlines()\n",
    "f = open(\"E:\\Dream\\Dream Research\\Mitacs Project\\Test4_shielding_values.txt\", \"w\")\n",
    "    \n",
    "#print(\"Read Line: \", file_content)\n",
    "for line in file_content:\n",
    "    if 'W' in line or 'C' in line or 'P' in line:\n",
    "        if 'Total sigma' in line:\n",
    "            x = line.split()\n",
    "            #print(x)\n",
    "            k=x[-9]+','+x[-1]+'\\n'\n",
    "            #print(x[-9],',',x[-1])\n",
    "            f.write(k)\n",
    "            #print(line)\n",
    "f.close()\n",
    "       "
   ]
  },
  {
   "cell_type": "code",
   "execution_count": 3,
   "metadata": {},
   "outputs": [
    {
     "name": "stdout",
     "output_type": "stream",
     "text": [
      "t =  200\n",
      "unique array :  ['C,-31.00\\n' 'C,-34.08\\n' 'C,-35.09\\n' 'C,-39.47\\n' 'C,-39.95\\n'\n",
      " 'C,116.97\\n' 'C,125.34\\n' 'C,127.59\\n' 'C,129.21\\n' 'C,132.49\\n'\n",
      " 'C,142.22\\n' 'C,144.90\\n' 'C,15.18\\n' 'C,26.06\\n' 'C,34.52\\n' 'C,35.17\\n'\n",
      " 'C,39.57\\n' 'C,39.63\\n' 'C,39.66\\n' 'C,40.02\\n' 'C,40.26\\n' 'C,40.30\\n'\n",
      " 'C,42.22\\n' 'C,42.34\\n' 'H,23.14\\n' 'H,23.54\\n' 'H,23.65\\n' 'H,23.76\\n'\n",
      " 'H,24.04\\n' 'H,24.07\\n' 'H,25.52\\n' 'H,25.66\\n' 'H,27.02\\n' 'H,28.42\\n'\n",
      " 'H,28.76\\n' 'H,29.06\\n' 'H,29.26\\n' 'H,29.49\\n' 'H,29.57\\n' 'H,29.94\\n'\n",
      " 'H,30.16\\n' 'H,31.05\\n' 'O,-74.91\\n' 'O,-83.64\\n' 'O,-84.72\\n'\n",
      " 'O,-88.85\\n' 'O,-96.17\\n' 'P,271.75\\n' 'W,3562.87\\n']\n"
     ]
    }
   ],
   "source": [
    "import numpy as np\n",
    "f = open(\"E:\\Dream\\Dream Research\\Mitacs Project\\gipawTest4.out\", \"r\")\n",
    "#print(f.read())   \n",
    "i=0\n",
    "t=0\n",
    "arr=[]\n",
    "file_content = f.readlines()\n",
    "f = open(\"E:\\Dream\\Dream Research\\Mitacs Project\\Test4_shielding_values.txt\", \"w\")\n",
    "  \n",
    "#print(\"Read Line: \", file_content)\n",
    "for line in file_content:\n",
    "    if'Atom' in line:\n",
    "        if 'Total sigma' in line:\n",
    "            x = line.split()\n",
    "            #print(x)\n",
    "            k=x[-9]+','+x[-1]+'\\n'\n",
    "            #print(x[-9],',',x[-1])\n",
    "            arr.append(k)\n",
    "            arr_unique = np.unique(arr)\n",
    "            t=t+1\n",
    "print(\"t = \",t)\n",
    "print(\"unique array : \",arr_unique)\n",
    "l=len(arr_unique)\n",
    "for i in range(l):\n",
    "    f.write(arr_unique[i])\n",
    "f.close()      \n",
    "\n",
    "# Note: This might not work in some scenarios because the hydrogens in different positions might have the same value \n",
    "# and we do not want to ignore that."
   ]
  },
  {
   "cell_type": "code",
   "execution_count": 5,
   "metadata": {},
   "outputs": [
    {
     "name": "stdout",
     "output_type": "stream",
     "text": [
      "Symmetry :  2\n"
     ]
    }
   ],
   "source": [
    "import numpy as np\n",
    "fcif=open(r\"E:\\Dream\\Dream Research\\Mitacs Project\\Backed-up-data\\1866126\\QE\\1866126.cif\",\"r\")\n",
    "f = open(r\"E:\\Dream\\Dream Research\\Mitacs Project\\Backed-up-data\\1866126\\QE\\gipaw1866126.out\", \"r\") \n",
    "i=0\n",
    "symm=0\n",
    "counter=0\n",
    "t=1\n",
    "arr=[]\n",
    "file_content = f.readlines()\n",
    "cif_content=fcif.readlines()\n",
    "fw = open(r\"E:\\Dream\\Dream Research\\Mitacs Project\\Backed-up-data\\1866126\\QE\\Shielding1866126.txt\", \"w\")\n",
    "for i in range(len(cif_content)):\n",
    "    if 'xyz' in cif_content[i]:\n",
    "        while((cif_content[i+t])!='\\n') and ('_' not in cif_content[i+t]):\n",
    "            #print(cif_content[i+t])\n",
    "            symm=symm+1\n",
    "            t=t+1\n",
    "            \n",
    "print(\"Symmetry : \",symm)       \n",
    "    \n",
    "#print(\"Read Line: \", file_content)\n",
    "#print(cif_content)\n",
    "for line in file_content:\n",
    "    if'Atom' in line:\n",
    "        if 'Total sigma' in line:\n",
    "            counter+=1\n",
    "            x = line.split()\n",
    "            #print(x)\n",
    "            k=x[-9]+','+x[-1]+'\\n'\n",
    "            #print(counter % symm)\n",
    "            if((counter % symm)==0):\n",
    "                fw.write(k)\n",
    "            #print(x[-9],',',x[-1])\n",
    "            \n",
    "f.close()   \n",
    "fcif.close()\n",
    "fw.close()\n"
   ]
  },
  {
   "cell_type": "code",
   "execution_count": 198,
   "metadata": {},
   "outputs": [],
   "source": [
    "# Preparing input file by replacing PSEUDOS\n",
    "if \"Al\" in line:\n",
    "    line.replace(\"Al_PSEUDO\",\"Al.pbe-n-kjpaw_psl.1.0.0.UPF\")\n",
    "elif \"C\" in line:\n",
    "    line.replace(\"C_PSEUDO\",\"C.pbe-n-kjpaw_psl.1.0.0.UPF\")\n",
    "elif \"Cl\" in line:\n",
    "    line.replace(\"Cl_PSEUDO\",\"Cl.pbe-n-kjpaw_psl.1.0.0.UPF\")\n",
    "elif \"F\" in line:\n",
    "    line.replace(\"F_PSEUDO\",\"F.pbe-n-kjpaw_psl.1.0.0.UPF\")\n",
    "elif \"Fe\" in line:\n",
    "    line.replace(\"Fe_PSEUDO\",\"Fe.pbe-spn-kjpaw_psl.1.0.0.UPF\")\n",
    "elif \"H\" in line:\n",
    "    line.replace(\"H_PSEUDO\",\"H.pbe-kjpaw_psl.1.0.0.UPF\")\n",
    "elif \"N\" in line:\n",
    "    line.replace(\"N_PSEUDO\",\"N.pbe-n-kjpaw_psl.1.0.0.UPF\")\n",
    "elif \"O\" in line:\n",
    "    line.replace(\"O_PSEUDO\",\"O.pbe-n-kjpaw_psl.1.0.0.UPF\")\n",
    "elif \"P\" in line:\n",
    "    line.replace(\"P_PSEUDO\",\"P.pbe-n-kjpaw_psl.1.0.0.UPF\")\n",
    "\n"
   ]
  },
  {
   "cell_type": "code",
   "execution_count": 223,
   "metadata": {},
   "outputs": [
    {
     "name": "stdout",
     "output_type": "stream",
     "text": [
      "final-line :   W  183.84000   W_PSEUDO\n"
     ]
    }
   ],
   "source": [
    "line=  \" W  183.84000   W_PSEUDO\"\n",
    "if \"Al_PSEUDO\" in line:\n",
    "    l1=line.replace(\"Al_PSEUDO\",\"Al.pbe-n-kjpaw_psl.1.0.0.UPF\")\n",
    "elif \"C\" in line:\n",
    "    l1=line.replace(\"C_PSEUDO\",\"C.pbe-n-kjpaw_psl.1.0.0.UPF\")\n",
    "elif \"Cl\" in line:\n",
    "    l1=line.replace(\"Cl_PSEUDO\",\"Cl.pbe-n-kjpaw_psl.1.0.0.UPF\")\n",
    "elif \"F\" in line:\n",
    "    l1=line.replace(\"F_PSEUDO\",\"F.pbe-n-kjpaw_psl.1.0.0.UPF\")\n",
    "elif \"Fe\" in line:\n",
    "    l1=line.replace(\"Fe_PSEUDO\",\"Fe.pbe-spn-kjpaw_psl.1.0.0.UPF\")\n",
    "elif \"H\" in line:\n",
    "    l1=line.replace(\"H_PSEUDO\",\"H.pbe-kjpaw_psl.1.0.0.UPF\")\n",
    "elif \"N\" in line:\n",
    "    l1=line.replace(\"N_PSEUDO\",\"N.pbe-n-kjpaw_psl.1.0.0.UPF\")\n",
    "elif \"O_PSEUDO\" in line:\n",
    "    l1=line.replace(\"O_PSEUDO\",\"O.pbe-n-kjpaw_psl.1.0.0.UPF\")\n",
    "elif \"P_PSEUDO\" in line:\n",
    "    l1=line.replace(\"P_PSEUDO\",\"P.pbe-n-kjpaw_psl.1.0.0.UPF\")\n",
    "elif \"S_PSEUDO\" in line:\n",
    "    l1=line.replace(\"S_PSEUDO\",\"S.pbe-n-kjpaw_psl.1.0.0.UPF\")\n",
    "elif \"W_PSEUDO\" in line:\n",
    "    print(\"Entered\")\n",
    "    l1=line.replace(\"W_PSEUDO\",\"W.pbe-spn-kjpaw_psl.1.0.0.UPF\")\n",
    "line=l1\n",
    "print(\"final-line : \",l1)"
   ]
  },
  {
   "cell_type": "code",
   "execution_count": 233,
   "metadata": {},
   "outputs": [
    {
     "name": "stdout",
     "output_type": "stream",
     "text": [
      "Entered\n",
      "final-line :   W  183.84000   W.pbe-spn-kjpaw_psl.1.0.0.UPF\n"
     ]
    }
   ],
   "source": [
    "line=  \" W  183.84000   W_PSEUDO\"\n",
    "\n",
    "if \"W_PSEUDO\" in line:\n",
    "    print(\"Entered\")\n",
    "    l1=line.replace(\"W_PSEUDO\",\"W.pbe-spn-kjpaw_psl.1.0.0.UPF\")\n",
    "line=l1\n",
    "print(\"final-line : \",line)"
   ]
  },
  {
   "cell_type": "code",
   "execution_count": 15,
   "metadata": {},
   "outputs": [],
   "source": [
    "import fileinput\n",
    "import sys\n",
    "\n",
    "def replaceAll(file,searchExp,replaceExp):\n",
    "    for line in fileinput.input(file, inplace=1):\n",
    "        if searchExp in line:\n",
    "            line = line.replace(searchExp,replaceExp)\n",
    "        sys.stdout.write(line)"
   ]
  },
  {
   "cell_type": "code",
   "execution_count": null,
   "metadata": {},
   "outputs": [],
   "source": [
    "\n"
   ]
  },
  {
   "cell_type": "code",
   "execution_count": null,
   "metadata": {},
   "outputs": [],
   "source": []
  },
  {
   "cell_type": "code",
   "execution_count": null,
   "metadata": {},
   "outputs": [],
   "source": [
    "\n"
   ]
  },
  {
   "cell_type": "code",
   "execution_count": null,
   "metadata": {},
   "outputs": [],
   "source": []
  }
 ],
 "metadata": {
  "kernelspec": {
   "display_name": "Python 3",
   "language": "python",
   "name": "python3"
  },
  "language_info": {
   "codemirror_mode": {
    "name": "ipython",
    "version": 3
   },
   "file_extension": ".py",
   "mimetype": "text/x-python",
   "name": "python",
   "nbconvert_exporter": "python",
   "pygments_lexer": "ipython3",
   "version": "3.8.5"
  }
 },
 "nbformat": 4,
 "nbformat_minor": 4
}
