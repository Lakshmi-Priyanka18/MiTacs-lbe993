{
 "cells": [
  {
   "cell_type": "code",
   "execution_count": 29,
   "metadata": {},
   "outputs": [
    {
     "data": {
      "text/plain": [
       "<function TextIOWrapper.close()>"
      ]
     },
     "execution_count": 29,
     "metadata": {},
     "output_type": "execute_result"
    }
   ],
   "source": [
    "f = open(r\"E:\\Dream\\Dream Research\\Mitacs Project\\1866127\\reg1702_0m.xyz\", \"r\")\n",
    "file_content=f.readlines()\n",
    "count=0\n",
    "file = open(r\"E:\\Dream\\Dream Research\\Mitacs Project\\1866127\\nmr_1866127\",\"w\")\n",
    "file.write(\"NMR\\n  OUT Iso, Eig, Tens, Info\\n  Calc All\\n  USE FXC\\n  U1K Best\\n  Atoms \")\n",
    "for line in file_content:\n",
    "    if(len(line.split())==4):\n",
    "        count+=1\n",
    "    if(line.split()[0]=='W' or line.split()[0]=='C' or line.split()[0]=='P'):\n",
    "        file.write(str(count)+\" \")\n",
    "file.write(\"\\nEND\")\n",
    "file.close()\n",
    "f.close"
   ]
  },
  {
   "cell_type": "code",
   "execution_count": null,
   "metadata": {},
   "outputs": [],
   "source": []
  },
  {
   "cell_type": "code",
   "execution_count": null,
   "metadata": {},
   "outputs": [],
   "source": []
  }
 ],
 "metadata": {
  "kernelspec": {
   "display_name": "Python 3",
   "language": "python",
   "name": "python3"
  },
  "language_info": {
   "codemirror_mode": {
    "name": "ipython",
    "version": 3
   },
   "file_extension": ".py",
   "mimetype": "text/x-python",
   "name": "python",
   "nbconvert_exporter": "python",
   "pygments_lexer": "ipython3",
   "version": "3.8.5"
  }
 },
 "nbformat": 4,
 "nbformat_minor": 4
}
