{
 "cells": [
  {
   "cell_type": "code",
   "execution_count": 40,
   "metadata": {},
   "outputs": [],
   "source": [
    "import numpy as np\n",
    "from sklearn.linear_model import LinearRegression\n",
    "import pandas as pd\n",
    "from matplotlib import pyplot as plt"
   ]
  },
  {
   "cell_type": "code",
   "execution_count": 41,
   "metadata": {},
   "outputs": [],
   "source": [
    "x=np.array([278,234,232,239,234,246,265,279,279,296,296])\n",
    "y=np.array([249.124,214.811,210.436,214.609,209.379,227.743,248.654,260.342,264.659,297.652,296.262])"
   ]
  },
  {
   "cell_type": "code",
   "execution_count": 43,
   "metadata": {},
   "outputs": [],
   "source": [
    "from sklearn.model_selection import train_test_split\n",
    "from sklearn.metrics import r2_score\n",
    "from sklearn.metrics import mean_squared_error\n",
    "i=0\n",
    "f=open(\"E:\\Dream\\Dream Research\\Mitacs Project\\Linear_Regression\\LR_MiTacs.txt\",\"w\")\n",
    "#Test-Train split \n",
    "for i in range(350):\n",
    "    x_train, x_test, y_train, y_test = train_test_split(x,y,test_size=0.300,random_state=None)\n",
    "    x_train=x_train.reshape(-1,1)\n",
    "    x_test=x_test.reshape(-1,1)\n",
    "    #f.write(str(x_train))\n",
    "    #f.write(str(y_train))\n",
    "    #f.write(str(x_test))\n",
    "    #f.write(str(y_test))\n",
    "    LR = LinearRegression()\n",
    "    LR.fit(x_train,y_train)\n",
    "    prediction = LR.predict(x_test)\n",
    "    R_2_score=r2_score(y_test,prediction)\n",
    "    R_2_score=str(R_2_score)\n",
    "    RMSE=mean_squared_error(y_test, prediction, squared=False)\n",
    "    RMSE=str(RMSE)\n",
    "    #print(str(i)+\" \"+RMSE+\"\\n\")\n",
    "    #print(R_2_score)\n",
    "    #slope_intercept = np.polyfit(x,y,1)\n",
    "    #print(slope_intercept)\n",
    "    f.write(\"RMSE_\"+str(i)+\" \"+RMSE+\"\\n\")\n",
    "    f.write(\"R_2_score_\"+str(i)+\" \"+R_2_score+\"\\n\")"
   ]
  },
  {
   "cell_type": "code",
   "execution_count": null,
   "metadata": {},
   "outputs": [],
   "source": []
  }
 ],
 "metadata": {
  "kernelspec": {
   "display_name": "Python 3",
   "language": "python",
   "name": "python3"
  },
  "language_info": {
   "codemirror_mode": {
    "name": "ipython",
    "version": 3
   },
   "file_extension": ".py",
   "mimetype": "text/x-python",
   "name": "python",
   "nbconvert_exporter": "python",
   "pygments_lexer": "ipython3",
   "version": "3.8.5"
  }
 },
 "nbformat": 4,
 "nbformat_minor": 4
}
