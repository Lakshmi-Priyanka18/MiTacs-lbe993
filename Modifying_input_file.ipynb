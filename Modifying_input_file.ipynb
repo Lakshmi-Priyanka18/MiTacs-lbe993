{
 "cells": [
  {
   "cell_type": "code",
   "execution_count": 4,
   "metadata": {},
   "outputs": [],
   "source": [
    "f = open(\"E:\\Dream\\Dream Research\\Mitacs Project\\Test1_with_zeroes.in.txt\", \"r+\")\n",
    "file_content=(f.readlines())\n",
    "#print(file_content)"
   ]
  },
  {
   "cell_type": "code",
   "execution_count": 5,
   "metadata": {},
   "outputs": [],
   "source": [
    "import os\n",
    "line_counter=0\n",
    "atoms_present=[]\n",
    "#Atomic_pos_line_number=0\n",
    "PSEUDOS_list=os.listdir(\"E:\\Dream\\Dream Research\\Mitacs Project\\pseudos\")\n",
    "#print(PSEUDOS_list)\n",
    "\n",
    "def pseudos_new(atom,line,line_counter):\n",
    "    for x in PSEUDOS_list:\n",
    "        if atom in x:\n",
    "            l1=line.replace(atom+\"_PSEUDO\",x)\n",
    "            file_content[line_counter-1]=l1\n",
    "                        \n",
    "for line in file_content:\n",
    "    line_counter+=1\n",
    "    \n",
    "    if \"&SYSTEM\" in line:\n",
    "        sys_line_number=line_counter\n",
    "    \n",
    "    if \"ntyp\" in line:\n",
    "        file_content.insert(line_counter,\"  dftd3_version = 5,\\n\")\n",
    "        file_content.insert(line_counter,\"  vdw_corr = 'grimme-d3',\\n\")\n",
    "        file_content.insert(line_counter,\"  ecutrho = 360.0.0,\\n\")\n",
    "        file_content.insert(line_counter,\"  ecutwfc = 45.0,\\n\")\n",
    "        \n",
    "    if \"dftd3_version\" in line:\n",
    "        k=line_counter+1\n",
    "        file_content.insert(k,\"\\n\")\n",
    "        file_content.insert(k,\"/\\n\")\n",
    "        file_content.insert(k,\"&IONS\\n\")\n",
    "        file_content.insert(k,\"\\n\")\n",
    "        file_content.insert(k,\"/\\n\")\n",
    "        file_content.insert(k,\"&ELECTRONS\\n\")\n",
    "        file_content.insert(k,\"\\n\")\n",
    "        \n",
    "    if \"CELL_PARAMETERS\" in line:\n",
    "        file_content.insert(line_counter+3,\"\\n\")\n",
    "        \n",
    "    if \"ATOMIC_SPECIES\" in line:\n",
    "        Atomic_pos_line_number=line_counter\n",
    "        \n",
    "            \n",
    "    if \"_PSEUDO\" in line:\n",
    "        print(\"line number : \",line_counter)\n",
    "        words = line.split()\n",
    "        #words[0]=atom\n",
    "        atoms_present.append(words[0])\n",
    "        if words[0]+\"_PSEUDO\" in line:\n",
    "            pseudos_new(words[0],line,line_counter)\n",
    "       \n",
    "    \n",
    "        \n",
    "#print(f.read())\n",
    "#print(file_content)\n",
    "#print(\"System line number : \", sys_line_number)\n",
    "file_content.insert(sys_line_number-1,\"\\n\")\n",
    "file_content.insert(sys_line_number-1,\"/\\n\")\n",
    "file_content.insert(sys_line_number-1,\"  pseudo_dir = '/home/lbe993/scratch/pseudos/',\\n\")\n",
    "file_content.insert(sys_line_number-1,\"  outdir = '/home/lbe993/scratch/Test6/',\\n\")\n",
    "file_content.insert(sys_line_number-1,\"  prefix = 'Test6',\\n\")\n",
    "file_content.insert(sys_line_number-1,\"  calculation = 'relax',\\n\")\n",
    "file_content.insert(sys_line_number-1,\"&CONTROL\\n\")\n",
    "\n",
    "#print(\"atoms present : \",atoms_present)\n",
    "length=len(atoms_present)\n",
    "Atomic_pos_line_number=Atomic_pos_line_number+length\n",
    "file_content.insert((Atomic_pos_line_number),\"\\n\")\n",
    "no_of_atoms=len(atoms_present)\n",
    "with open(\"E:\\Dream\\Dream Research\\Mitacs Project\\Test1_modified.in\",\"w\") as file:\n",
    "    for line in file_content:    \n",
    "        file.write(line)\n",
    "\n",
    "#print(file_content[10])\n"
   ]
  },
  {
   "cell_type": "code",
   "execution_count": null,
   "metadata": {},
   "outputs": [],
   "source": []
  },
  {
   "cell_type": "code",
   "execution_count": null,
   "metadata": {},
   "outputs": [],
   "source": []
  },
  {
   "cell_type": "code",
   "execution_count": null,
   "metadata": {},
   "outputs": [],
   "source": []
  }
 ],
 "metadata": {
  "kernelspec": {
   "display_name": "Python 3",
   "language": "python",
   "name": "python3"
  },
  "language_info": {
   "codemirror_mode": {
    "name": "ipython",
    "version": 3
   },
   "file_extension": ".py",
   "mimetype": "text/x-python",
   "name": "python",
   "nbconvert_exporter": "python",
   "pygments_lexer": "ipython3",
   "version": "3.8.5"
  }
 },
 "nbformat": 4,
 "nbformat_minor": 4
}
